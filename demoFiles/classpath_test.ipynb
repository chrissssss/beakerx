{
 "cells": [
  {
   "cell_type": "markdown",
   "metadata": {},
   "source": [
    "# Classpath in Groovy"
   ]
  },
  {
   "cell_type": "code",
   "execution_count": 2,
   "metadata": {
    "collapsed": false,
    "deletable": true,
    "editable": true
   },
   "outputs": [
    {
     "name": "stdout",
     "output_type": "stream",
     "text": [
      "The Groovy working folder is :\n",
      "/Users/spot/src/beakerx/demoFiles\n",
      "BeakerXClasspathTest.jar exists in this folder\n"
     ]
    }
   ],
   "source": [
    "println \"The Groovy working folder is :\"\n",
    "println java.nio.file.Paths.get(\".\").toAbsolutePath().normalize().toString();\n",
    "println \"BeakerXClasspathTest.jar exists in this folder\"\n",
    "OutputCell.HIDDEN"
   ]
  },
  {
   "cell_type": "code",
   "execution_count": 4,
   "metadata": {
    "collapsed": false,
    "deletable": true,
    "editable": true
   },
   "outputs": [
    {
     "name": "stdout",
     "output_type": "stream",
     "text": [
      "static_123\n",
      "object_123\n"
     ]
    }
   ],
   "source": [
    "BeakerXClasspathTest t = new BeakerXClasspathTest();\n",
    "println com.beaker.BeakerXClasspathTest.staticTest;\n",
    "println t.getObjectTest();\n",
    "OutputCell.HIDDEN"
   ]
  }
 ],
 "metadata": {
  "anaconda-cloud": {},
  "classpath": [
   "BeakerXClasspathTest.jar"
  ],
  "imports": [
   "com.beaker.BeakerXClasspathTest",
   "com.twosigma.beaker.jvm.object.OutputCell"
  ],
  "kernelspec": {
   "display_name": "Groovy",
   "language": "groovy",
   "name": "groovy"
  },
  "language_info": {
   "codemirror_mode": "groovy",
   "file_extension": ".groovy",
   "mimetype": "",
   "name": "Groovy",
   "nbconverter_exporter": "",
   "pygments_lexer": "",
   "version": "2.4.3"
  }
 },
 "nbformat": 4,
 "nbformat_minor": 2
}
